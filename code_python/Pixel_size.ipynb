{
 "cells": [
  {
   "cell_type": "code",
   "execution_count": 4,
   "id": "66c922b8-bef6-49f4-98b9-8aadff075e3b",
   "metadata": {},
   "outputs": [],
   "source": [
    "import tifffile\n",
    "\n",
    "def read_tiff_voxel_size(file_path):\n",
    "    \"\"\"\n",
    "    Implemented based on information found in https://pypi.org/project/tifffile\n",
    "    \"\"\"\n",
    "\n",
    "    def _xy_voxel_size(tags, key):\n",
    "        assert key in ['XResolution', 'YResolution']\n",
    "        if key in tags:\n",
    "            num_pixels, units = tags[key].value\n",
    "            return units / num_pixels\n",
    "        # return default\n",
    "        return 1.\n",
    "\n",
    "    with tifffile.TiffFile(file_path) as tiff:\n",
    "        image_metadata = tiff.imagej_metadata\n",
    "        if image_metadata is not None:\n",
    "            z = image_metadata.get('spacing', 1.)\n",
    "        else:\n",
    "            # default voxel size\n",
    "            z = 1.\n",
    "\n",
    "        tags = tiff.pages[0].tags\n",
    "        # parse X, Y resolution\n",
    "        y = _xy_voxel_size(tags, 'YResolution')\n",
    "        x = _xy_voxel_size(tags, 'XResolution')\n",
    "        # return voxel size\n",
    "        return [z, y, x]\n",
    "\n",
    "#g = read_tiff_voxel_size(r\"C:\\Users\\Heloise\\Documents\\Manip\\Exemple\\dec10_median.tif\")\n",
    "#print(g[1])"
   ]
  },
  {
   "cell_type": "code",
   "execution_count": 5,
   "id": "f9c2b320-d44a-49fc-a41b-da692a787d7c",
   "metadata": {},
   "outputs": [
    {
     "name": "stdout",
     "output_type": "stream",
     "text": [
      "0.1682584759786628\n"
     ]
    }
   ],
   "source": []
  },
  {
   "cell_type": "code",
   "execution_count": null,
   "id": "53c228fc-344c-40aa-acfc-00cefb2d72be",
   "metadata": {},
   "outputs": [],
   "source": []
  }
 ],
 "metadata": {
  "kernelspec": {
   "display_name": "Python 3 (ipykernel)",
   "language": "python",
   "name": "python3"
  },
  "language_info": {
   "codemirror_mode": {
    "name": "ipython",
    "version": 3
   },
   "file_extension": ".py",
   "mimetype": "text/x-python",
   "name": "python",
   "nbconvert_exporter": "python",
   "pygments_lexer": "ipython3",
   "version": "3.9.15"
  }
 },
 "nbformat": 4,
 "nbformat_minor": 5
}
