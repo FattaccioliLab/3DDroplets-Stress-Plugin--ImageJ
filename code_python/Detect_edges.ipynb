{
 "cells": [
  {
   "cell_type": "code",
   "execution_count": 10,
   "id": "a99e27cb-9d48-4f46-b4ac-4501ff41760a",
   "metadata": {},
   "outputs": [],
   "source": [
    "import napari\n",
    "import numpy as np\n",
    "import skimage.io\n",
    "from scipy.ndimage import gaussian_filter, convolve\n",
    "from skimage import data, color, filters, transform\n",
    "from skimage.transform import rescale, resize, downscale_local_mean\n",
    "from skimage.measure import label\n",
    "from scipy import ndimage\n",
    "import os\n",
    "import io\n"
   ]
  },
  {
   "cell_type": "code",
   "execution_count": 11,
   "id": "0240b252-1ed3-483b-9451-91c25d605c4f",
   "metadata": {},
   "outputs": [],
   "source": [
    "def apply_3d_sobel_filter(image, smoothpixelsize):\n",
    "    # Create the 3D Sobel filters\n",
    "    sobel3Dz = np.array([[[1, 2, 1], [2, 4, 2], [1, 2, 1]], \n",
    "                        [[0, 0, 0], [0, 0, 0], [0, 0, 0]], \n",
    "                        [[-1, -2, -1], [-2, -4, -2], [-1, -2, -1]]], dtype=float)\n",
    "    \n",
    "    sobel3Dx = np.transpose(sobel3Dz, (1, 2, 0))\n",
    "    sobel3Dy = np.transpose(sobel3Dz, (2, 0, 1))\n",
    "    \n",
    "    \n",
    "\n",
    "\n",
    "    # Prepare output variable\n",
    "    XYZedges = []\n",
    "\n",
    "    image = np.double(image)\n",
    "\n",
    "        # Smooth the individual images\n",
    "    if smoothpixelsize is not None:\n",
    "        if isinstance(smoothpixelsize, (int, float)):  # Check if smoothpixelsize is a scalar\n",
    "            if smoothpixelsize > 0:\n",
    "                image = gaussian_filter(image, sigma=smoothpixelsize)\n",
    "        elif isinstance(smoothpixelsize, (list, tuple, np.ndarray)) and len(smoothpixelsize) == 3:\n",
    "            if all(s > 0 for s in smoothpixelsize):  # Check if all values are positive\n",
    "                image = gaussian_filter(image, sigma=smoothpixelsize)\n",
    "\n",
    "        # Convolve in the 3 directions\n",
    "    xedges = convolve(image, sobel3Dx, mode='constant')\n",
    "    yedges = convolve(image, sobel3Dy, mode='constant')\n",
    "    zedges = convolve(image, sobel3Dz, mode='constant')\n",
    "\n",
    "        # Take the sum of squares of the 3 volumetric images\n",
    "    xyzedges = np.sqrt(xedges**2 + yedges**2 + zedges**2)\n",
    "\n",
    "        # Make the outer edge zero\n",
    "    xyzedges[[0, -1], :, :] = 0\n",
    "    xyzedges[:, :, [0, -1]] = 0\n",
    "    xyzedges[:, [0, -1], :] = 0\n",
    "\n",
    "        # Store output\n",
    "    XYZedges.append(xyzedges)\n",
    "\n",
    "    return XYZedges"
   ]
  },
  {
   "cell_type": "code",
   "execution_count": 12,
   "id": "c5a17a1a-5091-4155-8499-19e50a05d8a1",
   "metadata": {},
   "outputs": [],
   "source": [
    "# Config\n",
    "\n",
    "#Voxel size in µm\n",
    "vsz = 0.1579\n",
    "vsy = 0.1245\n",
    "vsx = 0.1245\n",
    "target_voxelsize = 0.1245 #microns\n",
    "\n",
    "voxelsize = np.asarray([vsz, vsx, vsy])\n",
    "scaling_factors = voxelsize / target_voxelsize"
   ]
  },
  {
   "cell_type": "code",
   "execution_count": 13,
   "id": "6202122c-4688-4fa5-b8c6-5f49f8715329",
   "metadata": {},
   "outputs": [
    {
     "name": "stderr",
     "output_type": "stream",
     "text": [
      "WARNING: QWindowsWindow::setGeometry: Unable to set geometry 1086x679-71+17 (frame: 1104x726-80-21) on QWidgetWindow/\"_QtMainWindowClassWindow\" on \"\\\\.\\DISPLAY1\". Resulting geometry: 1360x851-70+24 (frame: 1378x898-79-14) margins: 9, 38, 9, 9 minimum size: 374x575 MINMAXINFO maxSize=0,0 maxpos=0,0 mintrack=392,622 maxtrack=0,0)\n",
      "18-Oct-23 11:05:44 - vispy    - WARNING  - QWindowsWindow::setGeometry: Unable to set geometry 1086x679-71+17 (frame: 1104x726-80-21) on QWidgetWindow/\"_QtMainWindowClassWindow\" on \"\\\\.\\DISPLAY1\". Resulting geometry: 1360x851-70+24 (frame: 1378x898-79-14) margins: 9, 38, 9, 9 minimum size: 374x575 MINMAXINFO maxSize=0,0 maxpos=0,0 mintrack=392,622 maxtrack=0,0)\n"
     ]
    }
   ],
   "source": [
    "# create viewer\n",
    "viewer = napari.Viewer(ndisplay=3)"
   ]
  },
  {
   "cell_type": "code",
   "execution_count": 14,
   "id": "773919d5-249a-4b8e-abd2-56443e0d3039",
   "metadata": {},
   "outputs": [
    {
     "data": {
      "text/plain": [
       "<Image layer 'deconvoluted_data1' at 0x1532fbf2df0>"
      ]
     },
     "execution_count": 14,
     "metadata": {},
     "output_type": "execute_result"
    }
   ],
   "source": [
    "num_droplet = 9\n",
    "\n",
    "DATA_ROOT = os.path.join(\"C:\\\\\",\"Users\",\"Heloise\",\"Documents\",\"Data\",\"Naked1\",\"%s\" %num_droplet)\n",
    "image_ini = skimage.io.imread(os.path.join(DATA_ROOT, 'droplet%s.tif' %num_droplet))\n",
    "Dec = skimage.io.imread(os.path.join(DATA_ROOT, 'Dec10_median.tif' ))\n",
    "#Dec = skimage.io.imread(os.path.join(DATA_ROOT, 'contour.tif' ))\n",
    "#Dec2 = skimage.io.imread(os.path.join(DATA_ROOT, 'Dec_61.tif'))\n",
    "n_frames = Dec.shape[0]\n",
    "viewer.add_image(image_ini, name='Raw data', scale = voxelsize)\n",
    "viewer.add_image(Dec, name='deconvoluted_data1', scale = voxelsize)\n",
    "#viewer.add_image(Dec2, name='deconvoluted_data2', scale = voxelsize)\n",
    "#viewer.add_image(image_ini,  name='Raw data')\n",
    "#viewer.add_image(Dec, name='deconvoluted_data')"
   ]
  },
  {
   "cell_type": "code",
   "execution_count": 15,
   "id": "13ad6bf0-af30-4e3d-91aa-b9eff89499c5",
   "metadata": {},
   "outputs": [
    {
     "data": {
      "text/plain": [
       "<Image layer 'edge' at 0x1533f0d6520>"
      ]
     },
     "execution_count": 15,
     "metadata": {},
     "output_type": "execute_result"
    }
   ],
   "source": [
    "edge = apply_3d_sobel_filter(Dec, smoothpixelsize = [1,1,2])  #Resonant [1,1,2]\n",
    "viewer.add_image(edge, scale = voxelsize)"
   ]
  },
  {
   "cell_type": "code",
   "execution_count": 16,
   "id": "9a969f23-cdcb-491c-9153-ce36a327dde3",
   "metadata": {},
   "outputs": [],
   "source": [
    "name_file = 'edges.tif'\n",
    "saving_path = DATA_ROOT.replace(\"\\\\\", \"/\")\n",
    "\n",
    "skimage.io.imsave('%s/%s' %(saving_path, name_file), np.array(edge).astype(np.float32))  "
   ]
  },
  {
   "cell_type": "code",
   "execution_count": null,
   "id": "a53c09e3-27dc-4291-aaab-f1accb65a0f5",
   "metadata": {},
   "outputs": [],
   "source": []
  },
  {
   "cell_type": "code",
   "execution_count": null,
   "id": "cd6564a3-941a-488c-9677-12612244e990",
   "metadata": {},
   "outputs": [],
   "source": []
  }
 ],
 "metadata": {
  "kernelspec": {
   "display_name": "Python 3 (ipykernel)",
   "language": "python",
   "name": "python3"
  },
  "language_info": {
   "codemirror_mode": {
    "name": "ipython",
    "version": 3
   },
   "file_extension": ".py",
   "mimetype": "text/x-python",
   "name": "python",
   "nbconvert_exporter": "python",
   "pygments_lexer": "ipython3",
   "version": "3.9.15"
  }
 },
 "nbformat": 4,
 "nbformat_minor": 5
}
