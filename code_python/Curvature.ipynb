{
 "cells": [
  {
   "cell_type": "code",
   "execution_count": 16,
   "id": "fcf1db8a-7709-4f30-a868-768f6c255524",
   "metadata": {},
   "outputs": [],
   "source": [
    "import napari_stress\n",
    "import vedo\n",
    "import napari\n",
    "import matplotlib.pyplot as plt\n",
    "import matplotlib as mpl\n",
    "from matplotlib.colors import Normalize\n",
    "import numpy as np\n",
    "import pandas as pd\n",
    "import os\n",
    "import skimage.io\n",
    "from napari_stress._spherical_harmonics import spherical_harmonics_napari\n",
    "from napari_stress import measurements, approximation\n",
    "from enum import Enum\n",
    "from napari_stress._spherical_harmonics.spherical_harmonics import shtools_spherical_harmonics_expansion\n",
    "from napari_stress._spherical_harmonics.spherical_harmonics import stress_spherical_harmonics_expansion"
   ]
  },
  {
   "cell_type": "code",
   "execution_count": 17,
   "id": "fefbd037-4b23-4bab-846f-c049317de739",
   "metadata": {},
   "outputs": [],
   "source": [
    "import pandas as pd\n",
    "def open_Excel_data(path):\n",
    "    file = open(r\"%s\" % path, 'rb')\n",
    "    data = pd.read_excel(file, sheet_name = 'data')\n",
    "    return (data) \n",
    "\n",
    "def open_Excel_info(path):\n",
    "    file = open(r\"%s\" % path, 'rb')\n",
    "    data = pd.read_excel(file, sheet_name = 'info')\n",
    "    return (data) "
   ]
  },
  {
   "cell_type": "code",
   "execution_count": 18,
   "id": "40ad0257-bbfc-4717-8ee9-a2f52e586c60",
   "metadata": {},
   "outputs": [],
   "source": [
    "viewer = napari.Viewer(ndisplay=3)"
   ]
  },
  {
   "cell_type": "code",
   "execution_count": 19,
   "id": "0ba91667-b39f-4248-8714-424fa0e3aaf0",
   "metadata": {},
   "outputs": [],
   "source": [
    "num_droplet = 13\n",
    "\n",
    "DATA_ROOT = os.path.join(\"C:\\\\\",\"Users\",\"Heloise\",\"Documents\",\"Data\",\"IgG\",\"NoResonant\",\"%s\" %num_droplet)\n",
    "file_name_recon = '%s_reconstruction.xlsx' %(num_droplet)\n",
    "\n",
    "excel_file_recon = '%s/%s' %(DATA_ROOT, file_name_recon)\n",
    "\n",
    "data = open_Excel_data(excel_file_recon)\n",
    "info = open_Excel_info(excel_file_recon)\n"
   ]
  },
  {
   "cell_type": "code",
   "execution_count": 20,
   "id": "e075d5a0-d667-4df4-a2c7-1092147dcbf2",
   "metadata": {},
   "outputs": [],
   "source": [
    "# Config\n",
    "\n",
    "#utiliser pixel_size\n",
    "#voxelsize = read_tiff_voxel_size(r\"C:\\Users\\Heloise\\Documents\\Manip\\Exemple\\dec10_median.tif\")\n",
    "target_voxelsize = info['target_voxel_size'][0]\n",
    "\n",
    "\n",
    "\n",
    "#Voxel size in µm\n",
    "vsz = 0.1579\n",
    "vsy = 0.1756\n",
    "vsx = 0.1756\n",
    "target_voxelsize = 0.1756   #microns\n",
    "\n",
    "voxelsize = np.asarray([vsz, vsx, vsy])\n",
    "scaling_factors = voxelsize / target_voxelsize\n"
   ]
  },
  {
   "cell_type": "code",
   "execution_count": 21,
   "id": "32bebe56-a2a0-4bf1-8d1c-6556e230cab1",
   "metadata": {},
   "outputs": [
    {
     "data": {
      "text/plain": [
       "<Image layer 'actine' at 0x130c106d400>"
      ]
     },
     "execution_count": 21,
     "metadata": {},
     "output_type": "execute_result"
    }
   ],
   "source": [
    "target_voxelsize = info['target_voxel_size'][0]\n",
    "scale = np.asarray([target_voxelsize] * 3) \n",
    "\n",
    "#actine = skimage.io.imread(os.path.join(DATA_ROOT, 'actine.tif' )) #pour voir actine \n",
    "Dec = skimage.io.imread(os.path.join(DATA_ROOT, 'Dec10_median.tif' ))\n",
    "\n",
    "viewer.add_image(Dec, name='deconvoluted_data1', scale = voxelsize)\n",
    "#viewer.add_image(actine, name='actine', scale = voxelsize, colormap =\"red\")"
   ]
  },
  {
   "cell_type": "code",
   "execution_count": 22,
   "id": "b29d2861-34c5-48f1-b477-d32b966c86d3",
   "metadata": {},
   "outputs": [
    {
     "data": {
      "text/plain": [
       "<Points layer 'Raw_rescale' at 0x130b56b8820>"
      ]
     },
     "execution_count": 22,
     "metadata": {},
     "output_type": "execute_result"
    }
   ],
   "source": [
    "#convert the coordinates to the voxel size\n",
    "\n",
    "data_res = data\n",
    "data_res[0] = data_res[0]*target_voxelsize\n",
    "data_res[1] = data_res[1]*target_voxelsize\n",
    "data_res[2] = data_res[2]*target_voxelsize\n",
    "#data_res = pd.DataFrame(data_res).to_numpy() \n",
    "\n",
    "viewer.add_points(data_res, size = 0.2, edge_color = \"blue\", name='Raw_rescale')  \n",
    "#print(data_res)"
   ]
  },
  {
   "cell_type": "code",
   "execution_count": 118,
   "id": "a7f66250-fadf-4531-9029-f6949dc46244",
   "metadata": {},
   "outputs": [],
   "source": [
    "#Optionnel : si des points sont aberrants et à supprimer (mais à retravailler)\n",
    "\n",
    "indices_a_supprimer = [944, 663, 1116,1135,1155,1167, 1084]\n",
    "data_res = data_res.drop(indices_a_supprimer, axis=0)\n",
    "data_res = data_res.reset_index(drop=True)"
   ]
  },
  {
   "cell_type": "code",
   "execution_count": 7,
   "id": "98e76999-53ec-443b-8f73-fe5a5f88fae3",
   "metadata": {},
   "outputs": [
    {
     "data": {
      "text/plain": [
       "<Points layer 'Raw_rescale [1]' at 0x1a2dcd4d820>"
      ]
     },
     "execution_count": 7,
     "metadata": {},
     "output_type": "execute_result"
    }
   ],
   "source": [
    " viewer.add_points(data_res, size = 0.2, edge_color = \"blue\", name='Raw_rescale')  "
   ]
  },
  {
   "cell_type": "code",
   "execution_count": 23,
   "id": "5c028fcc-de8c-462d-b3ec-d69842817b48",
   "metadata": {},
   "outputs": [
    {
     "data": {
      "text/plain": [
       "<Points layer 'Points' at 0x130c2393910>"
      ]
     },
     "execution_count": 23,
     "metadata": {},
     "output_type": "execute_result"
    }
   ],
   "source": [
    "#Pour voir le fit par HS au mode 0\n",
    "\n",
    "class spherical_harmonics_methods(Enum):\n",
    "    \"\"\"Available methods for spherical harmonics expansion.\"\"\"\n",
    "\n",
    "    shtools = {'function': shtools_spherical_harmonics_expansion}\n",
    "    stress = {'function': stress_spherical_harmonics_expansion}\n",
    "\n",
    "class expansion_types(Enum):\n",
    "    \"\"\"Available coordinate systems for spherical harmonics expansion.\"\"\"\n",
    "    cartesian = 'cartesian'\n",
    "    radial = 'radial'\n",
    "\n",
    "'''\n",
    "max_degree = 0\n",
    "#data = pd.DataFrame(data).to_numpy() \n",
    "\n",
    "data_res_tab = pd.DataFrame(data_res).to_numpy()\n",
    "\n",
    "#remove the .points() for csv file\n",
    "fitted_points_mode0 = napari_stress.fit_spherical_harmonics(data_res_tab, max_degree=max_degree, expansion_type = expansion_types.radial)\n",
    "fitted_points_mode0[1]['size'] = 0.1\n",
    "fitted_points_mode0[1]['face_color'] = 'yellow'\n",
    "viewer.add_points(fitted_points_mode0[0], **fitted_points_mode0[1])"
   ]
  },
  {
   "cell_type": "code",
   "execution_count": 24,
   "id": "57d94cc8-e198-424c-8098-0849e24d2dbe",
   "metadata": {},
   "outputs": [
    {
     "data": {
      "text/plain": [
       "<Points layer 'Points [1]' at 0x130c2a4e970>"
      ]
     },
     "execution_count": 24,
     "metadata": {},
     "output_type": "execute_result"
    }
   ],
   "source": [
    "#Pour voir le fit par HS au mode choisi\n",
    "\n",
    "max_degree = 5\n",
    "#data = pd.DataFrame(data).to_numpy() \n",
    "\n",
    "data_res_tab = pd.DataFrame(data_res).to_numpy()\n",
    "\n",
    "#remove the .points() for csv file\n",
    "fitted_points = napari_stress.fit_spherical_harmonics(data_res_tab, max_degree=max_degree, expansion_type = expansion_types.cartesian)\n",
    "fitted_points[1]['size'] = 0.2\n",
    "#fitted_points[1]['face_color'] = 'red'\n",
    "viewer.add_points(fitted_points[0], **fitted_points[1])"
   ]
  },
  {
   "cell_type": "code",
   "execution_count": 33,
   "id": "b780186d-9236-4398-9764-90ac9ef9d44f",
   "metadata": {},
   "outputs": [],
   "source": [
    "# Configuration des paramètres par défaut\n",
    "import matplotlib as mpl\n",
    "\n",
    "mpl.rcParams['figure.facecolor'] = 'white'\n",
    "mpl.rcParams['axes.edgecolor'] = 'black'\n",
    "mpl.rcParams['axes.facecolor'] = 'white'\n",
    "mpl.rcParams['axes.labelcolor'] = 'black'\n",
    "mpl.rcParams['axes.labelsize'] = 12\n",
    "mpl.rcParams['axes.titlesize'] = 16\n",
    "mpl.rcParams['axes.titlecolor'] = 'white'\n",
    "mpl.rcParams['xtick.color'] = 'black'\n",
    "mpl.rcParams['ytick.color'] = 'black'\n",
    "mpl.rcParams['font.size'] = 10\n",
    "mpl.rcParams['font.family'] = 'sans-serif'  # Choisir une police adaptée"
   ]
  },
  {
   "cell_type": "code",
   "execution_count": 11,
   "id": "32e3f3ba-b71c-4209-b57b-c12e3cc7567b",
   "metadata": {},
   "outputs": [
    {
     "data": {
      "image/png": "[encoded data removed]",
      "text/plain": [
       "<Figure size 640x480 with 1 Axes>"
      ]
     },
     "metadata": {},
     "output_type": "display_data"
    }
   ],
   "source": [
    "#la couleur des points devrait dépendre de l'erreur du fit par HS mais à retravailler \n",
    "errors = fitted_points[1]['features']['error']\n",
    "err_min = errors.min()\n",
    "err_max = errors.max()\n",
    "\n",
    "norm_err = Normalize(vmin=err_min, vmax=err_max)\n",
    "\n",
    "cmap = mpl.cm.viridis\n",
    "color_err = cmap(norm_err(errors))\n",
    "\n",
    "fig, ax = plt.subplots()\n",
    "\n",
    "hist, bins = np.histogram(errors, bins=50)\n",
    "\n",
    "for i in range(len(bins) - 1):\n",
    "    plt.bar(bins[i], hist[i], width=np.diff(bins)[i], color=color_err[i], edgecolor='grey')\n",
    "\n",
    "#ax.xaxis.set_ticks(range(max_degree+1)) \n",
    "plt.xlabel('Fit residues (µm)')\n",
    "plt.ylabel('Occurences')\n",
    "plt.show()"
   ]
  },
  {
   "cell_type": "code",
   "execution_count": 25,
   "id": "b7c5608f-1cc9-4e4f-95a2-14a4b16fc5a0",
   "metadata": {},
   "outputs": [],
   "source": [
    "n_quadrature_point = 2000\n",
    "coefficients = fitted_points[1]['metadata']['spherical_harmonics_coefficients']\n",
    "quadrature_points, lebedev_fit = napari_stress.lebedev_quadrature(coefficients=coefficients, number_of_quadrature_points=n_quadrature_point, use_minimal_point_set = False )"
   ]
  },
  {
   "cell_type": "code",
   "execution_count": 26,
   "id": "ba4661df-5b8a-4877-a16b-684a6267d551",
   "metadata": {},
   "outputs": [
    {
     "name": "stdout",
     "output_type": "stream",
     "text": [
      "2030\n"
     ]
    }
   ],
   "source": [
    "print(len(quadrature_points))"
   ]
  },
  {
   "cell_type": "code",
   "execution_count": 27,
   "id": "cd99b96f-9f0a-46b7-a50c-ef63746a960b",
   "metadata": {},
   "outputs": [
    {
     "data": {
      "text/plain": [
       "<Points layer 'lebedev' at 0x130c425c460>"
      ]
     },
     "execution_count": 27,
     "metadata": {},
     "output_type": "execute_result"
    }
   ],
   "source": [
    "viewer.add_points(quadrature_points, size = 0.1, face_color='white', name='lebedev')  \n"
   ]
  },
  {
   "cell_type": "code",
   "execution_count": 28,
   "id": "24d29434-11c5-4d72-bf8b-45299ef63f04",
   "metadata": {},
   "outputs": [],
   "source": [
    "manifold_droplet = napari_stress.create_manifold(quadrature_points, lebedev_fit = lebedev_fit, max_degree=max_degree)"
   ]
  },
  {
   "cell_type": "code",
   "execution_count": 29,
   "id": "64023c3e-80ee-4285-ade7-6bd45fb9d66b",
   "metadata": {},
   "outputs": [
    {
     "name": "stdout",
     "output_type": "stream",
     "text": [
      "6.163208182747081e-14\n"
     ]
    }
   ],
   "source": [
    "#Gauss-Bonnet \n",
    "from napari_stress import measurements\n",
    "\n",
    "gauss_bonnet_err, gauss_bonnet_rel_err = measurements.gauss_bonnet_test(manifold_droplet)\n",
    "\n",
    "print(gauss_bonnet_rel_err)"
   ]
  },
  {
   "cell_type": "code",
   "execution_count": 30,
   "id": "ce588db9-6435-427e-a3e4-59f0d2acd7e2",
   "metadata": {},
   "outputs": [],
   "source": [
    "from napari_stress import measurements, approximation\n",
    "mean_curvature, H0_arithmetic, H0_surface = measurements.calculate_mean_curvature_on_manifold(manifold_droplet)"
   ]
  },
  {
   "cell_type": "code",
   "execution_count": 31,
   "id": "ce1e8ac2-7dbb-4ba2-91d6-ee50d763593d",
   "metadata": {},
   "outputs": [
    {
     "data": {
      "text/plain": [
       "<Points layer 'curvature' at 0x130c440c280>"
      ]
     },
     "execution_count": 31,
     "metadata": {},
     "output_type": "execute_result"
    }
   ],
   "source": [
    "#map de couleur pour plotter la curvature\n",
    "cmap = mpl.cm.coolwarm\n",
    "curv_min = mean_curvature.min()\n",
    "curv_max = mean_curvature.max()\n",
    "\n",
    "\n",
    "norm = Normalize(vmin=curv_min, vmax=curv_max)\n",
    "color_palette = cmap(norm(mean_curvature))\n",
    "\n",
    "viewer.add_points(quadrature_points, size = 0.5, face_color=color_palette, edge_color = color_palette  ,name='curvature', blending = 'opaque') \n"
   ]
  },
  {
   "cell_type": "code",
   "execution_count": 38,
   "id": "383a3779-c630-40ea-93b9-c6134537088e",
   "metadata": {},
   "outputs": [
    {
     "data": {
      "image/png": "[encoded data removed]",
      "text/plain": [
       "<Figure size 600x100 with 1 Axes>"
      ]
     },
     "metadata": {},
     "output_type": "display_data"
    }
   ],
   "source": [
    "fig, ax = plt.subplots(figsize=(6, 1))\n",
    "fig.subplots_adjust(bottom=0.5)\n",
    "\n",
    "cmap = mpl.cm.coolwarm\n",
    "norm = mpl.colors.Normalize(curv_min, curv_max)\n",
    "\n",
    "fig.colorbar(mpl.cm.ScalarMappable(norm=norm, cmap=cmap),\n",
    "             cax=ax, orientation='horizontal', label='Mean curvature (µm-1)')\n",
    "\n",
    "ax.tick_params (labelsize=15, color =\"black\")\n",
    "ax.patch.set_facecolor('black')\n",
    "ax.patch.set_facecolor('#ababab')\n",
    "\n",
    "new_DATA_ROOT = DATA_ROOT.replace(\"\\\\\", \"/\")\n",
    "#plt.savefig(\"%s/scale_curvature_1_mode%d.png\" %(new_DATA_ROOT, max_degree), facecolor=fig.get_facecolor())"
   ]
  },
  {
   "cell_type": "code",
   "execution_count": 20,
   "id": "9b8317a2-4052-43b3-8620-f90fd7c638ce",
   "metadata": {},
   "outputs": [
    {
     "name": "stdout",
     "output_type": "stream",
     "text": [
      "0.20906108811382842 0.20974883587061185\n"
     ]
    }
   ],
   "source": [
    "print(H0_surface, H0_arithmetic)"
   ]
  },
  {
   "cell_type": "code",
   "execution_count": 39,
   "id": "3cbf0e6e-a863-4379-8ad5-95bfe152388c",
   "metadata": {},
   "outputs": [
    {
     "name": "stdout",
     "output_type": "stream",
     "text": [
      "2030\n"
     ]
    }
   ],
   "source": [
    "#Measure stress \n",
    "gamma = 1.5\n",
    "\n",
    "stress = 2 * gamma * (mean_curvature - H0_surface)\n",
    "\n",
    "print(len(stress))"
   ]
  },
  {
   "cell_type": "code",
   "execution_count": 31,
   "id": "d3ff89f5-5318-44a1-a15f-07ca916fa972",
   "metadata": {},
   "outputs": [
    {
     "data": {
      "text/plain": [
       "<Points layer 'stress [1]' at 0x1a2dd0e1d30>"
      ]
     },
     "execution_count": 31,
     "metadata": {},
     "output_type": "execute_result"
    }
   ],
   "source": [
    "#Map de couleur pour plotter les stress\n",
    "cmap = mpl.cm.magma\n",
    "stress_min = stress.min()\n",
    "stress_max = stress.max()\n",
    "\n",
    "\n",
    "norm = Normalize(vmin=stress_min, vmax=stress_max)\n",
    "color_palette = cmap(norm(stress))\n",
    "\n",
    "viewer.add_points(quadrature_points, size = 0.5, face_color=color_palette, edge_color = color_palette, name='stress', blending = 'opaque') \n"
   ]
  },
  {
   "cell_type": "code",
   "execution_count": 34,
   "id": "c00d1be2-7ac3-40a6-9e8e-92bd9f0a5e8f",
   "metadata": {},
   "outputs": [
    {
     "data": {
      "text/plain": [
       "<matplotlib.colorbar.Colorbar at 0x1a314823ca0>"
      ]
     },
     "execution_count": 34,
     "metadata": {},
     "output_type": "execute_result"
    },
    {
     "data": {
      "image/png": "[encoded data removed]",
      "text/plain": [
       "<Figure size 600x100 with 1 Axes>"
      ]
     },
     "metadata": {},
     "output_type": "display_data"
    }
   ],
   "source": [
    "fig, ax = plt.subplots(figsize=(6, 1))\n",
    "fig.subplots_adjust(bottom=0.5)\n",
    "\n",
    "cmap = mpl.cm.magma\n",
    "norm = mpl.colors.Normalize(stress_min, stress_max)\n",
    "ax.tick_params (labelsize=15, color =\"black\")\n",
    "\n",
    "fig.colorbar(mpl.cm.ScalarMappable(norm=norm, cmap=cmap),\n",
    "             cax=ax, orientation='horizontal', label='stress')\n",
    "\n",
    "new_DATA_ROOT = DATA_ROOT.replace(\"\\\\\", \"/\")\n",
    "#plt.savefig(\"%s/scale_stress_1_mode%d.png\" %(new_DATA_ROOT, max_degree), facecolor=fig.get_facecolor())"
   ]
  },
  {
   "cell_type": "code",
   "execution_count": 40,
   "id": "9ed975a6-00c5-40c0-b1f0-28a9fe792556",
   "metadata": {},
   "outputs": [],
   "source": [
    "file_name = '%s_data_mode%d.xlsx' %(num_droplet, max_degree)\n",
    "saving_path = DATA_ROOT.replace(\"\\\\\", \"/\")\n",
    "excel_file = '%s/%s' %(saving_path, file_name)\n",
    "\n",
    "\n",
    "name_info = ['max_degree', 'number of lbdv points','Gauss_Bonnet_error','Gauss_Bonnet_rel_error', 'H0_surface','H0_arithmetic', 'gamma']\n",
    "info = [max_degree, len(quadrature_points), gauss_bonnet_err, gauss_bonnet_rel_err, H0_surface, H0_arithmetic, gamma]\n",
    "\n",
    "data_curvature = {nom: [valeur] for nom, valeur in zip(name_info, info)}\n",
    "\n",
    "df1 = pd.DataFrame(mean_curvature)\n",
    "df2 = pd.DataFrame(data_curvature)\n",
    "df3 = pd.DataFrame(stress)\n",
    "\n",
    "writer = pd.ExcelWriter(excel_file)\n",
    "\n",
    "# Écrire chaque DataFrame dans une feuille différente\n",
    "df1.to_excel(writer, sheet_name='mean curvature', index=False)\n",
    "df2.to_excel(writer, sheet_name='global curvature', index=False)\n",
    "df3.to_excel(writer, sheet_name = 'anisotropic stress', index = False)\n",
    "\n",
    "# Fermer le writer\n",
    "writer.save()\n",
    "writer.close()"
   ]
  },
  {
   "cell_type": "code",
   "execution_count": 162,
   "id": "f80f61bf-8eda-4b22-b7b3-9607647de194",
   "metadata": {},
   "outputs": [
    {
     "data": {
      "image/png": "[encoded data removed]",
      "text/plain": [
       "<Figure size 640x480 with 1 Axes>"
      ]
     },
     "metadata": {},
     "output_type": "display_data"
    }
   ],
   "source": [
    "from scipy import stats\n",
    "import seaborn as sns\n",
    "\n",
    "fig, ax = plt.subplots()\n",
    "\n",
    "sns.kdeplot(data=stress, bw_adjust = 0.75)\n",
    "\n",
    "ax.spines['bottom'].set_color('black')\n",
    "ax.spines['top'].set_color('black')\n",
    "ax.spines['left'].set_color('black')\n",
    "ax.spines['right'].set_color('black')\n",
    "ax.xaxis.label.set_color('black')\n",
    "ax.yaxis.label.set_color('black')\n",
    "plt.tick_params(axis='y', colors='black')\n",
    "plt.tick_params(axis='x', colors='black')\n",
    "plt.xlim(-1,1)\n",
    "#ax.xaxis.set_ticks(range(max_degree+1)) \n",
    "plt.xlabel('Normal Stress (nN.µm-2)')\n",
    "fig.patch.set_facecolor('white')\n",
    "ax.patch.set_facecolor('white')\n",
    "#plt.savefig(\"C:/Users/Heloise/Documents/Manip/Confocal/20230901/256_700/%s/Density_stress_1_mode%d.png\" %(num_droplet, max_degree), facecolor=fig.get_facecolor())\n",
    "plt.show()\n",
    "\n"
   ]
  },
  {
   "cell_type": "code",
   "execution_count": 38,
   "id": "e8fad347-b2d4-446d-94d5-d72f9ce427a8",
   "metadata": {},
   "outputs": [
    {
     "data": {
      "text/plain": [
       "<Surface layer 'reconstructed_surface [1]' at 0x28124469e20>"
      ]
     },
     "execution_count": 38,
     "metadata": {},
     "output_type": "execute_result"
    }
   ],
   "source": [
    "import napari_process_points_and_surfaces as nppas\n",
    "\n",
    "\n",
    "reconstructed_surface = nppas.reconstruct_surface_from_pointcloud(quadrature_points,number_of_sampling_voxels=20, point_influence_radius=1)\n",
    "\n",
    "viewer.add_surface(reconstructed_surface, colormap = color_palette, scale = scale)\n"
   ]
  },
  {
   "cell_type": "code",
   "execution_count": null,
   "id": "370ba412-8675-4a17-a21e-b1690510d2a4",
   "metadata": {},
   "outputs": [],
   "source": []
  }
 ],
 "metadata": {
  "kernelspec": {
   "display_name": "Python 3 (ipykernel)",
   "language": "python",
   "name": "python3"
  },
  "language_info": {
   "codemirror_mode": {
    "name": "ipython",
    "version": 3
   },
   "file_extension": ".py",
   "mimetype": "text/x-python",
   "name": "python",
   "nbconvert_exporter": "python",
   "pygments_lexer": "ipython3",
   "version": "3.9.15"
  }
 },
 "nbformat": 4,
 "nbformat_minor": 5
}
